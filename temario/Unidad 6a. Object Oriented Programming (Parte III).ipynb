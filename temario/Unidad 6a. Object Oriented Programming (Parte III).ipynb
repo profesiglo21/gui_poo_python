{
 "cells": [
  {
   "cell_type": "markdown",
   "id": "daff5193",
   "metadata": {},
   "source": [
    "# Object Oriented Programming (Part III)\n",
    "\n",
    "\n",
    "<br>\n",
    "\n",
    "\n",
    "## 3. Relaciones entre objetos\n",
    "- Hasta ahora hemos aprendido que la POO ofrece mecanismos para diseñar y crear nuestros **propios tipos de datos**, que usamos las clases para definir tales tipos y que, a partir de estas clases, creamos objetos a su imagen y semejanza. \n",
    "- La idea es modelar conceptos de la vida real que intervienen en los problemas que resolvemos. Pero claro, estos conceptos no son cosas aisladas sino que están relacionados entre sí de alguna manera. \n",
    "- Por consiguiente, vamos a entender **cómo podemos relacionar entre sí los distintos tipos de objetos** que vamos creando en nuestros programas.\n",
    "- En esta sección veremos los dos tipos de relaciones más habituales que se pueden dar entre objetos: la **composición** y la **herencia**.\n",
    "\n",
    "\n",
    "### 3.1. Composición\n",
    "- Para entender esta sección vamos a tomar como ejemplo una \"biblioteca\". Como  en una biblioteca los **libros son prestados y devueltos por personas**, en el análisis del problema aparecerán los conceptos *Libro* y *Persona*\n",
    "- Además, se ve que entre ellos hay una relación clara que podemos expresar así: **una persona puede tener prestado ninguno, uno o varios libros**.\n",
    "- Simplificando la expresión, es como si *una persona estuviera compuesta de 0, 1 o varios libros*. O en el sentido opuesto, como *si un libro estuviera compuesto de una persona*. En la jerga de la POO a este tipo de relaciones se les conoce como **“has-a relationship”**\n",
    "- ¿Y como se implementa esto en Python con objetos? Por lo pronto ya tenemos la **clase Libro**, con lo que podemos crear objetos Libro. Pero, obviamente, antes de poder relacionar los objetos *Libro* con los objetos *Persona*, necesitamos una **clase Persona** con la que poder crear estos últimos.\n",
    "\n",
    "Para modelar este problemas para a considerar los siguientes escenarios:\n",
    "1. una persona solo puede tener un libro\n",
    "2. una persona pueda tener prestados cualquier cantidad de libros\n",
    "\n",
    "#### Ejemplo Caso 1: una persona solo puede tener un libro"
   ]
  },
  {
   "cell_type": "code",
   "execution_count": 1,
   "id": "93cb9c7e",
   "metadata": {},
   "outputs": [],
   "source": [
    "class Persona():\n",
    "    def __init__(self, nombre, apellidos, nif):\n",
    "        self.nombre = nombre\n",
    "        self.apellidos = apellidos\n",
    "        self.nif = nif\n",
    "        self.libro = None\n",
    "\n",
    "    def __str__(self):\n",
    "        return f\"{self.nombre} {self.apellidos}\""
   ]
  },
  {
   "cell_type": "code",
   "execution_count": 2,
   "id": "9d70bcd0",
   "metadata": {},
   "outputs": [],
   "source": [
    "class Libro():\n",
    "    def __init__(self, titulo, autor, signatura):\n",
    "        self.titulo = titulo\n",
    "        self.autor = autor\n",
    "        self.signatura = signatura\n",
    "        self.prestado = False\n",
    "        self.prestado_a = None\n",
    "\n",
    "    def prestar(self, persona):\n",
    "        if self.prestado:\n",
    "            print(f\"Lo siento, el libro {self.signatura} ya está prestado\")\n",
    "        else:\n",
    "            self.prestado = True\n",
    "            self.prestado_a = persona\n",
    "            print(f\"Se acaba de prestar el libro {self.signatura} a {self.prestado_a}\")\n",
    "\n",
    "    def devolver(self):\n",
    "        if self.prestado:\n",
    "            print(f\"Libro {self.signatura} devuelto por {self.prestado_a}\")\n",
    "            self.prestado = False\n",
    "            self.prestado_a = None\n",
    "\n",
    "        else:\n",
    "            print(f\"El libro {self.signatura} se encuentra en la sala\")\n",
    "\n",
    "    def __str__(self):\n",
    "        return f\"Objeto de tipo libro con signatura {self.signatura}\"\n",
    "\n",
    "\n"
   ]
  },
  {
   "cell_type": "code",
   "execution_count": 3,
   "id": "bb352d40",
   "metadata": {},
   "outputs": [],
   "source": [
    "# Creamos 2 instancias de la clase Persona y 1 instancia de la clase Libro\n",
    "persona1 = Persona(\"Juan\", \"García\", \"11111111\")\n",
    "persona2 = Persona(\"Pepe\", \"Carmona\", \"4444444\")\n",
    "libro1 = Libro(\"Campos de castilla\", \"Antonio Machado\", \"CC/AM-1\")\n",
    "\n"
   ]
  },
  {
   "cell_type": "markdown",
   "id": "cf66327e",
   "metadata": {},
   "source": [
    "Realizar las siguientes tareas: \n",
    "\n",
    "1. Añade el código necesario a las clases Libro y Persona para que cuando se produzca un préstamo quede reflejado en el objeto Libro qué persona lo tiene y en el objeto Persona qué libro ha tomado prestado.\n",
    "\n",
    "2. Después crea dos personas y un libro.\n",
    "\n",
    "3. Entonces presta el libro a la primera persona.\n",
    "\n",
    "4. Presta el libro a la segunda persona.\n",
    "\n",
    "5. Usando el objeto Libro, imprime por pantalla quien lo tiene prestado.\n",
    "\n",
    "6. Devuelve el libro.\n",
    "\n",
    "7. Presta el libro a la segunda persona.\n",
    "\n",
    "8. Usando el objeto Libro, imprime por pantalla quien lo tiene prestado.\n",
    "\n"
   ]
  },
  {
   "cell_type": "code",
   "execution_count": 4,
   "id": "f8b96e1f",
   "metadata": {},
   "outputs": [
    {
     "name": "stdout",
     "output_type": "stream",
     "text": [
      "Se acaba de prestar el libro CC/AM-1 a Juan García\n",
      "Lo siento, el libro CC/AM-1 ya está prestado\n",
      "Juan García\n",
      "Libro CC/AM-1 devuelto por Juan García\n",
      "Se acaba de prestar el libro CC/AM-1 a Pepe Carmona\n",
      "Pepe Carmona\n"
     ]
    }
   ],
   "source": [
    "# prestamos el libro1 a persona1\n",
    "libro1.prestar(persona1)\n",
    "# prestamos el libro1 a persona2\n",
    "libro1.prestar(persona2)\n",
    "# ¿quién tiene el libro1?\n",
    "print(libro1.prestado_a)\n",
    "# la persona1 devuelve el libro\n",
    "libro1.devolver()\n",
    "# prestamos el libro1 a la persona2\n",
    "libro1.prestar(persona2)\n",
    "# ¿quién tiene el libro1?\n",
    "print(libro1.prestado_a)"
   ]
  },
  {
   "cell_type": "markdown",
   "id": "b34cef4a",
   "metadata": {},
   "source": [
    "#### Ejemplo Caso 2:  persona puede tener prestados cualquier cantidad de libros."
   ]
  },
  {
   "cell_type": "code",
   "execution_count": 5,
   "id": "3e24f055",
   "metadata": {},
   "outputs": [],
   "source": [
    "class Persona():\n",
    "    def __init__(self, nombre, apellidos, nif):\n",
    "        self.nombre = nombre\n",
    "        self.apellidos = apellidos\n",
    "        self.nif = nif\n",
    "        self.libros = []\n",
    "\n",
    "    def __str__(self):\n",
    "        return f\"{self.nombre} {self.apellidos}\"\n"
   ]
  },
  {
   "cell_type": "code",
   "execution_count": 6,
   "id": "63a3c692",
   "metadata": {},
   "outputs": [],
   "source": [
    "class Libro():\n",
    "    def __init__(self, titulo, autor, signatura):\n",
    "        self.titulo = titulo\n",
    "        self.autor = autor\n",
    "        self.signatura = signatura\n",
    "        self.prestado = False\n",
    "        self.prestado_a = None\n",
    "\n",
    "    def prestar(self, persona):\n",
    "        if self.prestado:\n",
    "            print(f\"Lo siento, el libro {self.signatura} ya está prestado\")\n",
    "        else:\n",
    "            self.prestado = True\n",
    "            self.prestado_a = persona\n",
    "            persona.libros.append(self)\n",
    "            print(f\"Se acaba de prestar el libro {self.signatura} a {self.prestado_a}\")\n",
    "\n",
    "    def devolver(self):\n",
    "        if self.prestado:\n",
    "            print(f\"Libro {self.signatura} devuelto por {self.prestado_a}\")\n",
    "            persona = self.prestado_a\n",
    "            persona.libros.remove(self)\n",
    "            self.prestado = False\n",
    "            self.prestado_a = None\n",
    "        else:\n",
    "            print(f\"El libro {self.signatura} se encuentra en la sala\")\n",
    "\n",
    "    def __str__(self):\n",
    "        return f\"Objeto de tipo libro con signatura {self.signatura}\"\n",
    "\t\n",
    "    def __repr__(self):\n",
    "        return self.__str__()"
   ]
  },
  {
   "cell_type": "code",
   "execution_count": 7,
   "id": "1280f9f2",
   "metadata": {},
   "outputs": [],
   "source": [
    "# Creamos 2 instancias de la clase Persona y 3 instancias de la clase Libro\n",
    "persona1 = Persona(\"Juan\", \"García\", \"11111111\")\n",
    "persona2 = Persona(\"Pepe\", \"Carmona\", \"4444444\")\n",
    "libro1 = Libro(\"Campos de castilla\", \"Antonio Machado\", \"CC/AM-1\")\n",
    "libro2 = Libro(\"Cien años de soledad\", \"Gabriel García Márquez\", \"CAS/GGM-1\")\n",
    "libro3 = Libro(\"El arte de amar\", \"Erich Fromm\", \"EAA/EF-1\")"
   ]
  },
  {
   "cell_type": "markdown",
   "id": "a73d2cbc",
   "metadata": {},
   "source": [
    "Realizar las siguientes tareas:\n",
    "\n",
    "1. Presta el libro1 a la persona1\n",
    "\n",
    "2. Presta el libro2 a la persona1\n",
    "\n",
    "3. Presta el libro1 a la persona2\n",
    "\n",
    "4. Presta el libro3 a la persona2\n",
    "\n",
    "5. Imprime por pantalla los libros que tiene la persona1 y la persona2\n",
    "\n",
    "6. Devuelve el libro2\n",
    "\n",
    "7. Presta el libro2 a la persona2\n",
    "\n",
    "8. Imprime por pantalla los libros que tiene la persona1 y la persona2"
   ]
  },
  {
   "cell_type": "code",
   "execution_count": 8,
   "id": "1e234d22",
   "metadata": {},
   "outputs": [
    {
     "name": "stdout",
     "output_type": "stream",
     "text": [
      "Se acaba de prestar el libro CC/AM-1 a Juan García\n",
      "Se acaba de prestar el libro CAS/GGM-1 a Juan García\n",
      "Lo siento, el libro CC/AM-1 ya está prestado\n",
      "Se acaba de prestar el libro EAA/EF-1 a Pepe Carmona\n",
      "[Objeto de tipo libro con signatura CC/AM-1, Objeto de tipo libro con signatura CAS/GGM-1]\n",
      "[Objeto de tipo libro con signatura EAA/EF-1]\n",
      "Libro CAS/GGM-1 devuelto por Juan García\n",
      "Se acaba de prestar el libro CAS/GGM-1 a Pepe Carmona\n",
      "[Objeto de tipo libro con signatura CC/AM-1]\n",
      "[Objeto de tipo libro con signatura EAA/EF-1, Objeto de tipo libro con signatura CAS/GGM-1]\n"
     ]
    }
   ],
   "source": [
    "# prestamos el libro1 a persona1\n",
    "libro1.prestar(persona1)\n",
    "# prestamos el libro2 a la persona1\n",
    "libro2.prestar(persona1)\n",
    "# prestamos el libro1 a persona2\n",
    "libro1.prestar(persona2)\n",
    "# prestamos el libro3 a la persona2\n",
    "libro3.prestar(persona2)\n",
    "# ¿qué libros tiene la persona 1?\n",
    "print(persona1.libros)\n",
    "# ¿qué libros tiene la persona 2?\n",
    "print(persona2.libros)\n",
    "# se devuelve el libro2\n",
    "libro2.devolver()\n",
    "# prestamos el libro2 a la persona2\n",
    "libro2.prestar(persona2)\n",
    "# ¿qué libros tiene la persona 1?\n",
    "print(persona1.libros)\n",
    "# ¿qué libros tiene la persona 2?\n",
    "print(persona2.libros)"
   ]
  },
  {
   "cell_type": "markdown",
   "id": "f81993da",
   "metadata": {},
   "source": [
    "Los cambios que hemos realizado son los siguientes: \n",
    "- En primer lugar, hemos cambiado el nombre del atributo libro por libros, puesto que necesitamos una referencia a una lista de libros, y semánticamente es más correcto usar el plural. Aunque al ordenador esto del plural le da lo mismo, piensa que principalmente escribimos el código para las personas.\n",
    "\n",
    "- Por otro lado, en el método prestar() de la clase Libro, hemos añadido el libro al atributo libros del objeto Persona que se ha pasado como argumento.\n",
    "\n",
    "*persona.libros.append(self)* \n",
    "\n",
    "    - Esta expresión merece una explicación. Primero, persona.libros es una lista de Python (List), y las listas son objetos, y como tales tienen métodos; append() es un método de las listas que sirve para añadir elementos. Por último, ¿qué queremos añadir? Pues el libro que se está prestando, es decir el atributo self que se pasa implícitamente cuando se usa el método prestar() del objeto libro.\n",
    "\n",
    "- Por último, cuando un libro se devuelve, también hay que eliminarlo de la lista libros de la persona que le corresponda. Esto lo hacemos en el método devolver() de la clase Libro:\n",
    "\n",
    "*persona.libros.remove(self)*\n",
    "\n",
    "    - La explicación de la expresión anterior es idéntica a la de la expresión usada para añadir libros, solo que ahora usamos el método remove() de las listas para eliminarlo."
   ]
  },
  {
   "cell_type": "markdown",
   "id": "e5ac9028",
   "metadata": {},
   "source": [
    "### 3.2. Herencia\n",
    "- El otro tipo de relación que puede darse entre los objetos es el de *generalización*, más conocido como **herencia**. \n",
    "- Se da cuando un objeto tiene un tipo asignado que se corresponde con el de la clase que se usó para crearlo. Pero lo interesante es que también **puede pertenecer a otras clases más generales**.\n",
    "- Si se piensa en el concepto de *Vaca* y en el de *Perro*. Ambos son cosas distintas con sus propias características. Sin embargo comparten algo con un concepto más genérico, el de *Animal*. \n",
    "- En efecto, una vaca es un animal y un perro es un animal. En la terminología de la POO, a este tipo de relación se le conoce como **“is-a relationship”**.\n",
    "- Pues bien, esta idea de que hay conceptos (más específicos) que son a su vez otros conceptos (más generales), es lo que se trata de resolver con el mecanismo de **herencia** en la POO. \n",
    "\n",
    "#### Caso de ejemplo: Figuras planas: círculos, cuadrados y triángulos\n",
    "- Para explicar como se definen las relaciones de herencia en Python, vamos a modelar una familia de **figuras planas** cuyos tamaños podemos ampliar o reducir (escalar). Concretamente modelaremos **círculos**, **cuadrados** y **triángulos**.\n",
    "- Podemos caracterizar a una figura plana cualquiera con tres atributos: el *nombre*, el *color* y el *área*. Siguiendo lo que hemos aprendido hasta el momento, la siguiente podría ser una clase que modela el concepto general *FiguraPlana*."
   ]
  },
  {
   "cell_type": "code",
   "execution_count": 9,
   "id": "5b877e49",
   "metadata": {},
   "outputs": [],
   "source": [
    "class FiguraPlana():\n",
    "    def __init__(self, nombre=\"\", color=\"\", area=None):\n",
    "        self.nombre = nombre\n",
    "        self.color = color\n",
    "        self.area = area\n",
    "\n",
    "    def escalar(self, cantidad):\n",
    "        self.area = self.area*cantidad**2"
   ]
  },
  {
   "cell_type": "markdown",
   "id": "c763ddba",
   "metadata": {},
   "source": [
    "- Fíjate que en la definición del método __init__() hemos usado parámetros por defecto. Al fin y al cabo un método no es más que una función, así que podemos usar todo lo que has aprendido sobre las funciones. La ventaja de esto es que podemos crear objetos de la clase FiguraPlana pasando los valores de atributos que conozcamos en el momento de crear el objeto. Aquellos que no pasemos se inicializarán con los valores por defecto. Además podemos pasar los argumentos indicando su nombre, como muestra el siguiente ejemplo:\n",
    "\n"
   ]
  },
  {
   "cell_type": "code",
   "execution_count": 10,
   "id": "4997ad8c",
   "metadata": {},
   "outputs": [],
   "source": [
    "fig = FiguraPlana(color=\"rojo\")"
   ]
  },
  {
   "cell_type": "markdown",
   "id": "8468e0a2",
   "metadata": {},
   "source": [
    "- Por otro lado, el método escalar() utiliza el hecho de que al multiplicar cada dimensión de una figura plana por un factor, el área de la figura se multiplica por ese factor elevado al cuadrado."
   ]
  },
  {
   "cell_type": "code",
   "execution_count": 11,
   "id": "3b4894c5",
   "metadata": {},
   "outputs": [
    {
     "name": "stdout",
     "output_type": "stream",
     "text": [
      "36\n",
      "50.2656\n",
      "<class '__main__.FiguraPlana'>\n",
      "<class '__main__.FiguraPlana'>\n"
     ]
    }
   ],
   "source": [
    "# Crea dos instancias de la clase FiguraPlana e imprime su tipo.\n",
    "lado = 6\n",
    "cuadrado = FiguraPlana(\"cuadrado\", \"verde\", lado*lado)\n",
    "print(cuadrado.area)\n",
    "\n",
    "radio = 4\n",
    "PI = 3.1416\n",
    "circulo = FiguraPlana(\"círculo\", \"rojo\", PI*radio*radio)\n",
    "print(circulo.area)\n",
    "\n",
    "print(type(circulo))\n",
    "print(type(cuadrado))"
   ]
  },
  {
   "cell_type": "markdown",
   "id": "308e63f7",
   "metadata": {},
   "source": [
    "- La cosa es que ambas clases también tendrían los mismos atributos y métodos que la clase FiguraPlana. Aunque, además, el círculo añadiría el radio como atributo y el cuadrado necesitaría añadir el atributo lado. \n",
    "\n",
    "- Y es aquí donde entra la herencia ya que todo lo que tiene la clase FiguraPlana, también lo tengan Cuadrado y Circulo. Por tanto, podemos reutilizar la clase **FiguraPlana** para crear las clases **Cuadrado** y **Circulo**. "
   ]
  },
  {
   "cell_type": "code",
   "execution_count": 12,
   "id": "83bffe31",
   "metadata": {},
   "outputs": [],
   "source": [
    "class Cuadrado(FiguraPlana):\n",
    "    pass\n",
    "\n",
    "class Circulo(FiguraPlana):\n",
    "    pass"
   ]
  },
  {
   "cell_type": "markdown",
   "id": "25650953",
   "metadata": {},
   "source": [
    "- Sin más que pasar la clase FiguraPlana como argumento de las clases Cuadrado y Circulo, estas últimas han heredado todos los atributos y métodos de la primera. \n",
    "- Decimos que: \n",
    "    - la clase Cuadrado y la clase Circulo han heredado de la clase FiguraPlana. \n",
    "    - O también que la clase Circulo (o Cuadrado) es hija de la clase FiguraPlana. \n",
    "    - O también que la clase FiguraPlana es padre de las clase Circulo y Cuadrado. \n",
    "    - O también que la clase Cuadrado (o Circulo) son más específicas que la clase FiguraPlana. \n",
    "    - O también que la clase FiguraPlana generaliza a las clases Circulo y Cuadrado. En fin, muchas formas de decir lo mismo.\n",
    "- Lo importante es que un objeto creado con la clase Circulo, **es un** Circulo y también **es una** FiguraPlana."
   ]
  },
  {
   "cell_type": "markdown",
   "id": "20d31541",
   "metadata": {},
   "source": [
    "- En nuestro caso necesitamos un atributo extra en ambas clases hijas (el **lado** y el **radio**) y **cambiar la forma en que se escalan**. \n",
    "\n",
    "- Además, podemos usar las fórmulas para calcular el área del círculo y del cuadrado **en el momento en que creamos los objetos**. \n",
    "\n",
    "\n",
    "El siguiente código realiza todas estas modificaciones *(versión 1.0)*:"
   ]
  },
  {
   "cell_type": "code",
   "execution_count": 13,
   "id": "bd413d15",
   "metadata": {},
   "outputs": [],
   "source": [
    "class Cuadrado(FiguraPlana):\n",
    "    def __init__(self, nombre=\"\", color=\"\", lado=None):\n",
    "        self.lado = lado\n",
    "        area = lado*lado if lado else None \n",
    "        super().__init__(nombre, color, area)\n",
    "       \n",
    "    def escalar(self, cantidad):\n",
    "        super().escalar(cantidad)\n",
    "        self.lado = cantidad*self.lado\n",
    "\n"
   ]
  },
  {
   "cell_type": "code",
   "execution_count": 14,
   "id": "e0ad16ae",
   "metadata": {},
   "outputs": [],
   "source": [
    "class Circulo(FiguraPlana):\n",
    "    def __init__(self, nombre=\"\", color=\"\", radio=None, area=None):\n",
    "        self.pi = 3.1416\n",
    "        self.radio = radio\n",
    "        area = self.pi*radio*radio if radio else None\n",
    "        super().__init__(nombre, color, area)\n",
    "\n",
    "    def escalar(self, cantidad):\n",
    "        super().escalar(cantidad)\n",
    "        self.radio = cantidad*self.radio\n",
    "        \n",
    "        "
   ]
  },
  {
   "cell_type": "markdown",
   "id": "864f0b04",
   "metadata": {},
   "source": [
    "- La novedad en este código es el uso de la función **super()**, la cual devuelve una referencia a la **clase padre**, es decir, a la clase *FiguraPlana*. \n",
    "- Además hemos cambiado los argumentos de la función __init__() tanto en la clase Cuadrado como en la Circulo. \n",
    "    - En la primera hemos añadido el argumento *lado*, para inicializar el atributo *self.lado*\n",
    "    - y en la segunda hemos añadido el argumento *radio*, para inicializar el atributo *self.radio* \n",
    "- Después, en ambos casos:\n",
    "    - **primero** hemos calculado el **área** con la fórmula correspondiente \n",
    "    - y **seguidamente** hemos llamado a la **función __init__()** de la clase padre, para aprovechar su código y que se inicialicen los atributos comunes.\n",
    "- Por otro lado, como el escalado de un cuadrado implica un cambio en la longitud del lado proporcional a la cantidad por la que se escala y lo mismo ocurre con un círculo pero aplicándolo al radio, **hemos modificado el método escalar() en ambas clases**. \n",
    "    - Primero hemos llamado a la función super() para realizar la modificación del área, que es común a ambas clases, \n",
    "    - y acto seguido hemos modificamos el lado o el radio, según sea el caso.\n",
    "    \n",
    "    "
   ]
  },
  {
   "cell_type": "code",
   "execution_count": 15,
   "id": "fabf7ecb",
   "metadata": {},
   "outputs": [
    {
     "name": "stdout",
     "output_type": "stream",
     "text": [
      "1296\n",
      "7937.662515019776\n",
      "<class '__main__.Circulo'>\n",
      "<class '__main__.Cuadrado'>\n"
     ]
    }
   ],
   "source": [
    "# Repite el ejercicio anterior usando las clases Cuadrado y Circulo e imprime su tipo.\n",
    "lado = 6\n",
    "cuadrado = Cuadrado(\"cuadrado\", \"verde\", lado*lado)\n",
    "print(cuadrado.area)\n",
    "\n",
    "radio = 4\n",
    "PI = 3.1416\n",
    "circulo = Circulo(\"círculo\", \"rojo\", PI*radio*radio)\n",
    "print(circulo.area)\n",
    "\n",
    "print(type(circulo))\n",
    "print(type(cuadrado))"
   ]
  },
  {
   "cell_type": "markdown",
   "id": "af58fc17",
   "metadata": {},
   "source": [
    "#### Mejora de las clases Cuadrado y círculo *(version 1.1)*"
   ]
  },
  {
   "cell_type": "markdown",
   "id": "ffb6dadd",
   "metadata": {},
   "source": [
    "Dado que en el código de la versión 1.0, el cálculo del área de un triángulo dado sus lados es un poco farragosa, hemos decidido crear un método específico, que hemos llamado calcular_area(), para calcular el área. \n",
    "\n"
   ]
  },
  {
   "cell_type": "markdown",
   "id": "3ce7795d",
   "metadata": {},
   "source": [
    "### Tarea 1: \n",
    "\n",
    "Arriba hemos facilitado el código de la clase **Triangulo** con la mejora, ahora tienes que hacer lo mismo para las clases **Cuadrado** y **Circulo** de abajo. Salvo por el método calcular_area(), por lo demás es similar al código de la versión 1.0"
   ]
  },
  {
   "cell_type": "code",
   "execution_count": 16,
   "id": "14bf3da3",
   "metadata": {},
   "outputs": [],
   "source": [
    "class Triangulo(FiguraPlana):\n",
    "    def __init__(self, nombre=\"\", color=\"\", a=None, b=None, c=None):\n",
    "        self.a = a\n",
    "        self.b = b\n",
    "        self.c = c\n",
    "        area = self.calcula_area()\n",
    "        super().__init__(nombre=nombre, color=color, area=area)\n",
    "\n",
    "    def calcula_area(self):\n",
    "        import math\n",
    "        a = self.a\n",
    "        b = self.b\n",
    "        c = self.c\n",
    "        p = (a+b+c)/2\n",
    "        area = math.sqrt(p*(p-a)*(p-b)*(p-c))\n",
    "\n",
    "        return area\n",
    "\n",
    "    def escalar(self, cantidad):\n",
    "        self.escalar(cantidad)\n",
    "        self.a = cantidad*self.a\n",
    "        self.b = cantidad*self.b\n",
    "        self.c = cantidad*self.c\n",
    "        \n",
    "        "
   ]
  },
  {
   "cell_type": "code",
   "execution_count": 17,
   "id": "835a5794",
   "metadata": {},
   "outputs": [],
   "source": [
    "class Cuadrado(FiguraPlana):\n",
    "    pass\n",
    "\n"
   ]
  },
  {
   "cell_type": "code",
   "execution_count": 18,
   "id": "606b96ce",
   "metadata": {},
   "outputs": [],
   "source": [
    "class Circulo(FiguraPlana):\n",
    "    pass"
   ]
  },
  {
   "cell_type": "code",
   "execution_count": 20,
   "id": "49436f61",
   "metadata": {},
   "outputs": [
    {
     "name": "stdout",
     "output_type": "stream",
     "text": [
      "4\n",
      "36\n"
     ]
    }
   ],
   "source": [
    "# Solucionario clase Cuadrado\n",
    "class Cuadrado(FiguraPlana):\n",
    "    def __init__(self, nombre=\"\", color=\"\", lado=None):\n",
    "        self.lado = lado\n",
    "        area = self.calcula_area()\n",
    "        super().__init__(nombre=nombre, color=color, area=area)\n",
    "        \n",
    "    def calcula_area(self):\n",
    "        import math\n",
    "        l= self.lado\n",
    "        area = l*l if l else None \n",
    "\n",
    "        return area\n",
    "\n",
    "    def escalar(self, cantidad):\n",
    "        super().escalar(cantidad)\n",
    "        self.lado = cantidad*self.lado\n",
    "\n",
    "        \n",
    "        \n",
    "lado = 2\n",
    "cuadrado = Cuadrado(\"cuadrado\", \"verde\", lado)\n",
    "\n",
    "print(cuadrado.area)\n",
    "cuadrado.escalar(3)\n",
    "print(cuadrado.area)\n"
   ]
  },
  {
   "cell_type": "code",
   "execution_count": 19,
   "id": "56f10c50",
   "metadata": {},
   "outputs": [
    {
     "name": "stdout",
     "output_type": "stream",
     "text": [
      "12.5664\n",
      "113.0976\n"
     ]
    }
   ],
   "source": [
    "# Solucionario clase Circulo\n",
    "class Circulo(FiguraPlana):\n",
    "    def __init__(self, nombre=\"\", color=\"\", radio=None, area=None):\n",
    "        self.pi = 3.1416\n",
    "        self.radio = radio\n",
    "        area = self.calcula_area()\n",
    "        super().__init__(nombre=nombre, color=color, area=area)       \n",
    "        \n",
    "    def calcula_area(self):\n",
    "        import math\n",
    "        r = self.radio\n",
    "        area = self.pi*r*r if r else None\n",
    "\n",
    "        return area\n",
    "\n",
    "    def escalar(self, cantidad):\n",
    "        super().escalar(cantidad)\n",
    "        self.radio = cantidad*self.radio     \n",
    "        \n",
    "radio = 2\n",
    "circulo = Circulo(\"circulo\", \"verde\", radio)\n",
    "\n",
    "print(circulo.area)\n",
    "circulo.escalar(3)\n",
    "print(circulo.area)"
   ]
  },
  {
   "cell_type": "markdown",
   "id": "c908629d",
   "metadata": {},
   "source": [
    "### Tarea 2: \n",
    "Antes de hacer la práctica de la unidad 5, recomiendo que veáis este videotutorial que repasa los conceptos fundamentales que hemos visto, aplicados para programar una granja, que se compone de animales. En la granja habrá diferentes tipos de animales, así que se crea una clase Animal, y luego varias clases de animales (Vaca, Perro, Cerdo, Gallina) que heredan todas de Animal. La clase Granja tiene un atributo que es una lista de objetos, que son instancias de la clase Animal, haciendo uso de la composición.\n",
    "\n",
    "\n",
    "https://www.youtube.com/watch?v=qLuaRh8h3kY&t=6s\n"
   ]
  },
  {
   "cell_type": "code",
   "execution_count": null,
   "id": "9095c8fa",
   "metadata": {},
   "outputs": [],
   "source": []
  }
 ],
 "metadata": {
  "celltoolbar": "Raw Cell Format",
  "kernelspec": {
   "display_name": "Python 3 (ipykernel)",
   "language": "python",
   "name": "python3"
  },
  "language_info": {
   "codemirror_mode": {
    "name": "ipython",
    "version": 3
   },
   "file_extension": ".py",
   "mimetype": "text/x-python",
   "name": "python",
   "nbconvert_exporter": "python",
   "pygments_lexer": "ipython3",
   "version": "3.7.4"
  }
 },
 "nbformat": 4,
 "nbformat_minor": 5
}
